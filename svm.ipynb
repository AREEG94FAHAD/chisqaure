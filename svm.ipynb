{
 "cells": [
  {
   "cell_type": "code",
   "execution_count": 5,
   "id": "c2b37545",
   "metadata": {},
   "outputs": [],
   "source": [
    "import os\n",
    "import numpy as np\n",
    "import pandas as pd\n",
    "from sklearn.feature_extraction.text import CountVectorizer\n",
    "from sklearn.feature_selection import SelectKBest, chi2\n",
    "from sklearn.model_selection import train_test_split\n",
    "from sklearn.svm import LinearSVC\n",
    "\n",
    "# Define the directories for the two classes\n",
    "melone_dir = 'melone'\n",
    "benone_dir = 'benone'\n",
    "\n",
    "# Load the text files into a DataFrame\n",
    "data = pd.DataFrame(columns=['Content', 'Type'])\n",
    "for file in os.listdir(melone_dir):\n",
    "    if file.endswith('.txt'):\n",
    "        with open(os.path.join(melone_dir, file), 'r') as f:\n",
    "            content = f.read()\n",
    "            new_row = pd.DataFrame({'Content': [content], 'Type': ['Melone']})\n",
    "            data = pd.concat([data, new_row], ignore_index=True)\n",
    "for file in os.listdir(benone_dir):\n",
    "    if file.endswith('.txt'):\n",
    "        with open(os.path.join(benone_dir, file), 'r') as f:\n",
    "            content = f.read()\n",
    "            new_row = pd.DataFrame({'Content': [content], 'Type': ['Benone']})\n",
    "            data = pd.concat([data, new_row], ignore_index=True)\n",
    "\n",
    "# Shuffle the DataFrame rows\n",
    "data = data.sample(frac=1).reset_index(drop=True)\n",
    "\n",
    "# Create a CountVectorizer object and fit it on the content of the text files\n",
    "cv = CountVectorizer()\n",
    "X = cv.fit_transform(data['Content'])\n",
    "y = data['Type']\n"
   ]
  },
  {
   "cell_type": "code",
   "execution_count": 6,
   "id": "d7168617",
   "metadata": {},
   "outputs": [],
   "source": [
    "from nltk.corpus import stopwords\n",
    "import re\n",
    "\n",
    "stop_words = set(stopwords.words('english'))\n",
    "data['Content'] = data['Content'].apply(lambda x: re.sub('[^a-zA-Z0-9\\s]', '', x))\n",
    "data['Content'] = data['Content'].apply(lambda x: x.lower())\n",
    "data['Content'] = data['Content'].apply(lambda x: ' '.join([word for word in x.split() if word not in stop_words]))"
   ]
  },
  {
   "cell_type": "code",
   "execution_count": 15,
   "id": "274b6831",
   "metadata": {},
   "outputs": [
    {
     "name": "stdout",
     "output_type": "stream",
     "text": [
      "Accuracy: 0.9979859013091642\n",
      "Precision: 0.9965159361711086\n",
      "Recall: 0.9965159361711086\n",
      "F1-Score: 0.9965159361711086\n"
     ]
    },
    {
     "name": "stderr",
     "output_type": "stream",
     "text": [
      "C:\\Users\\ali\\anaconda3\\lib\\site-packages\\sklearn\\svm\\_base.py:1206: ConvergenceWarning: Liblinear failed to converge, increase the number of iterations.\n",
      "  warnings.warn(\n"
     ]
    }
   ],
   "source": [
    "from sklearn.metrics import accuracy_score, precision_score, recall_score, f1_score\n",
    "import numpy as np\n",
    "\n",
    "\n",
    "# Create a CountVectorizer object and fit the data\n",
    "cv = CountVectorizer()\n",
    "cv.fit_transform(data['Content'])\n",
    "\n",
    "# Transform the text data into a matrix of features\n",
    "X = cv.transform(data['Content'])\n",
    "y = np.array(data['Type'])\n",
    "\n",
    "# Apply chi-square feature selection\n",
    "ch2 = SelectKBest(chi2, k=23)\n",
    "X = ch2.fit_transform(X, y)\n",
    "\n",
    "# Split the dataset into training and testing sets\n",
    "X_train, X_test, y_train, y_test = train_test_split(X, y, test_size=0.25, random_state=42)\n",
    "\n",
    "# Train a Linear SVM classifier on the selected features\n",
    "clf = LinearSVC()\n",
    "clf.fit(X_train, y_train)\n",
    "\n",
    "# Evaluate the classifier on the testing set\n",
    "y_pred = clf.predict(X_test)\n",
    "\n",
    "# Calculate the classification metrics\n",
    "accuracy = accuracy_score(y_test, y_pred)\n",
    "precision = precision_score(y_test, y_pred, average='macro')\n",
    "recall = recall_score(y_test, y_pred, average='macro')\n",
    "f1 = f1_score(y_test, y_pred, average='macro')\n",
    "\n",
    "# Print the classification metrics\n",
    "print(\"Accuracy:\", accuracy)\n",
    "print(\"Precision:\", precision)\n",
    "print(\"Recall:\", recall)\n",
    "print(\"F1-Score:\", f1)\n"
   ]
  },
  {
   "cell_type": "code",
   "execution_count": 16,
   "id": "222a89fc",
   "metadata": {},
   "outputs": [
    {
     "name": "stdout",
     "output_type": "stream",
     "text": [
      "Time taken:  0.001999378204345703  seconds\n"
     ]
    }
   ],
   "source": [
    "import time\n",
    "\n",
    "start_time = time.time()\n",
    "clf.predict(X_test)\n",
    "end_time = time.time()\n",
    "print(\"Time taken: \", end_time - start_time, \" seconds\")\n"
   ]
  },
  {
   "cell_type": "code",
   "execution_count": 4,
   "id": "d151fb7f",
   "metadata": {},
   "outputs": [
    {
     "name": "stdout",
     "output_type": "stream",
     "text": [
      "The best: 0.8176100628930818 fnumber  1 size of ds 0.2\n",
      "The best: 0.8187311178247734 fnumber  1 size of ds 0.25\n",
      "The best: 0.8313758389261745 fnumber  1 size of ds 0.3\n",
      "The best: 0.9547169811320755 fnumber  4 size of ds 0.2\n",
      "The best: 0.962248322147651 fnumber  4 size of ds 0.3\n",
      "The best: 0.9642058165548099 fnumber  5 size of ds 0.225\n",
      "The best: 0.9789569990850869 fnumber  5 size of ds 0.275\n",
      "The best: 0.989937106918239 fnumber  13 size of ds 0.2\n",
      "The best: 0.9908508691674291 fnumber  13 size of ds 0.275\n",
      "The best: 0.9911949685534591 fnumber  14 size of ds 0.2\n",
      "The best: 0.9932885906040269 fnumber  14 size of ds 0.225\n",
      "The best: 0.9944071588366891 fnumber  16 size of ds 0.225\n",
      "The best: 0.9969788519637462 fnumber  16 size of ds 0.25\n",
      "The best: 0.9974842767295597 fnumber  23 size of ds 0.2\n",
      "The best: 0.9988814317673378 fnumber  23 size of ds 0.225\n",
      "The best: 1.0 fnumber  23 size of ds 0.25\n"
     ]
    }
   ],
   "source": [
    "# import warnings\n",
    "# from sklearn.exceptions import ConvergenceWarning\n",
    "\n",
    "# bestaccuracy = 0\n",
    "# import numpy as np\n",
    "\n",
    "# arr = np.arange(0.2, 0.3+0.025, 0.025)\n",
    "# # [0.1   0.125 0.15  0.175 0.2   0.225 0.25  0.275 0.3  ]\n",
    "\n",
    "# cv = CountVectorizer()\n",
    "# cv.fit_transform(data['Content'])\n",
    "\n",
    "# # Transform the text data into a matrix of features\n",
    "# X = cv.transform(data['Content'])\n",
    "# y = np.array(data['Type'])\n",
    "\n",
    "# for i in range(1,1000):\n",
    "#     for j in arr:\n",
    "#         ch2 = SelectKBest(chi2, k=i)\n",
    "#         Xi = ch2.fit_transform(X, y)\n",
    "\n",
    "#         # Split the dataset into training and testing sets\n",
    "#         X_train, X_test, y_train, y_test = train_test_split(Xi, y, test_size=j, random_state=42)\n",
    "\n",
    "#         # Train a Linear SVM classifier on the selected features\n",
    "#         with warnings.catch_warnings():\n",
    "#             warnings.filterwarnings(\"ignore\", category=ConvergenceWarning)\n",
    "#             clf = LinearSVC()\n",
    "#             clf.fit(X_train, y_train)\n",
    "\n",
    "#         # Evaluate the classifier on the testing set\n",
    "#         accuracy = clf.score(X_test, y_test)\n",
    "#         if bestaccuracy  < accuracy:\n",
    "#             bestaccuracy = accuracy\n",
    "#             print(\"The best:\", bestaccuracy, 'fnumber ', i, \"size of ds\", j)\n"
   ]
  },
  {
   "cell_type": "code",
   "execution_count": null,
   "id": "398add72",
   "metadata": {},
   "outputs": [],
   "source": []
  },
  {
   "cell_type": "code",
   "execution_count": null,
   "id": "46d17a5e",
   "metadata": {},
   "outputs": [],
   "source": []
  },
  {
   "cell_type": "code",
   "execution_count": null,
   "id": "fb75c406",
   "metadata": {},
   "outputs": [],
   "source": []
  },
  {
   "cell_type": "code",
   "execution_count": 4,
   "id": "eb0d9aa2",
   "metadata": {},
   "outputs": [
    {
     "name": "stdout",
     "output_type": "stream",
     "text": [
      "TP: 639\n",
      "TN: 153\n",
      "FP: 3\n",
      "FN: 0\n"
     ]
    }
   ],
   "source": [
    "# Predict labels for the testing set\n",
    "from sklearn.metrics import confusion_matrix\n",
    "y_pred = clf.predict(X_test)\n",
    "\n",
    "# Compute the confusion matrix\n",
    "cm = confusion_matrix(y_test, y_pred)\n",
    "\n",
    "# Extract TP, TN, FP, FN from the confusion matrix\n",
    "TP = cm[1, 1]\n",
    "TN = cm[0, 0]\n",
    "FP = cm[0, 1]\n",
    "FN = cm[1, 0]\n",
    "\n",
    "# Print the results\n",
    "print(\"TP:\", TP)\n",
    "print(\"TN:\", TN)\n",
    "print(\"FP:\", FP)\n",
    "print(\"FN:\", FN)\n"
   ]
  },
  {
   "cell_type": "code",
   "execution_count": null,
   "id": "d3e6b5e2",
   "metadata": {},
   "outputs": [],
   "source": []
  },
  {
   "cell_type": "code",
   "execution_count": null,
   "id": "bf54f07d",
   "metadata": {},
   "outputs": [],
   "source": []
  }
 ],
 "metadata": {
  "kernelspec": {
   "display_name": "Python 3 (ipykernel)",
   "language": "python",
   "name": "python3"
  },
  "language_info": {
   "codemirror_mode": {
    "name": "ipython",
    "version": 3
   },
   "file_extension": ".py",
   "mimetype": "text/x-python",
   "name": "python",
   "nbconvert_exporter": "python",
   "pygments_lexer": "ipython3",
   "version": "3.9.13"
  }
 },
 "nbformat": 4,
 "nbformat_minor": 5
}
