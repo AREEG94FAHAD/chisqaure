{
 "cells": [
  {
   "cell_type": "code",
   "execution_count": 2,
   "id": "e2cc4fb9",
   "metadata": {},
   "outputs": [],
   "source": [
    "import os\n",
    "import numpy as np\n",
    "import pandas as pd\n",
    "from sklearn.feature_extraction.text import CountVectorizer\n",
    "from sklearn.feature_selection import SelectKBest, chi2\n",
    "from sklearn.model_selection import train_test_split\n",
    "from sklearn.neighbors import KNeighborsClassifier\n",
    "\n",
    "# Define the directories for the two classes\n",
    "melone_dir = 'melone'\n",
    "benone_dir = 'benone'\n",
    "\n",
    "# Load the text files into a DataFrame\n",
    "data = pd.DataFrame(columns=['Content', 'Type'])\n",
    "for file in os.listdir(melone_dir):\n",
    "    if file.endswith('.txt'):\n",
    "        with open(os.path.join(melone_dir, file), 'r') as f:\n",
    "            content = f.read()\n",
    "            data = pd.concat([data, pd.DataFrame({'Content': [content], 'Type': ['Melone']})], ignore_index=True)\n",
    "for file in os.listdir(benone_dir):\n",
    "    if file.endswith('.txt'):\n",
    "        with open(os.path.join(benone_dir, file), 'r') as f:\n",
    "            content = f.read()\n",
    "            data = pd.concat([data, pd.DataFrame({'Content': [content], 'Type': ['Benone']})], ignore_index=True)\n",
    "\n",
    "# Shuffle the DataFrame rows\n",
    "data = data.sample(frac=1).reset_index(drop=True)\n",
    "\n",
    "# Create a CountVectorizer object and fit it on the content of the text files\n",
    "from nltk.corpus import stopwords\n",
    "import re\n",
    "\n",
    "stop_words = set(stopwords.words('english'))\n",
    "data['Content'] = data['Content'].apply(lambda x: re.sub('[^a-zA-Z0-9\\s]', '', x))\n",
    "data['Content'] = data['Content'].apply(lambda x: x.lower())\n",
    "data['Content'] = data['Content'].apply(lambda x: ' '.join([word for word in x.split() if word not in stop_words]))\n"
   ]
  },
  {
   "cell_type": "code",
   "execution_count": 3,
   "id": "3ad3cc1c",
   "metadata": {},
   "outputs": [],
   "source": [
    "cv = CountVectorizer()\n",
    "cv.fit_transform(data['Content'])\n",
    "\n",
    "# Transform the text data into a matrix of features\n",
    "X = cv.transform(data['Content'])\n",
    "y = np.array(data['Type'])"
   ]
  },
  {
   "cell_type": "code",
   "execution_count": 14,
   "id": "9b44a3c0",
   "metadata": {},
   "outputs": [
    {
     "name": "stdout",
     "output_type": "stream",
     "text": [
      "Accuracy: 0.9899328859060402\n",
      "Accuracy: 0.9899328859060402\n",
      "Precision: 0.976063829787234\n",
      "Recall: 0.9937062937062937\n",
      "F1-Score: 0.9845716356635673\n"
     ]
    }
   ],
   "source": [
    "from sklearn.metrics import classification_report\n",
    "from sklearn.metrics import accuracy_score, precision_score, recall_score, f1_score\n",
    "\n",
    "cv = CountVectorizer()\n",
    "cv.fit_transform(data['Content'])\n",
    "\n",
    "# Transform the text data into a matrix of features\n",
    "# X = cv.transform(data['Content'])\n",
    "# y = np.array(data['Type'])\n",
    "\n",
    "# Apply chi-square feature selection\n",
    "# ch2 = SelectKBest(chi2, k='all')\n",
    "# X = ch2.fit_transform(X, y)\n",
    "\n",
    "# Split the dataset into training and testing sets\n",
    "X_train, X_test, y_train, y_test = train_test_split(X, y, test_size=0.225, random_state=42)\n",
    "\n",
    "# Train a KNN classifier on the selected features\n",
    "clf = KNeighborsClassifier()\n",
    "clf.fit(X_train, y_train)\n",
    "\n",
    "# Evaluate the classifier on the testing set\n",
    "accuracy = clf.score(X_test, y_test)\n",
    "print(\"Accuracy:\", accuracy)\n",
    "\n",
    "accuracy = accuracy_score(y_test, y_pred)\n",
    "precision = precision_score(y_test, y_pred, average='macro')\n",
    "recall = recall_score(y_test, y_pred, average='macro')\n",
    "f1 = f1_score(y_test, y_pred, average='macro')\n",
    "\n",
    "# Print the classification metrics\n",
    "print(\"Accuracy:\", accuracy)\n",
    "print(\"Precision:\", precision)\n",
    "print(\"Recall:\", recall)\n",
    "print(\"F1-Score:\", f1)"
   ]
  },
  {
   "cell_type": "code",
   "execution_count": 13,
   "id": "0ce24b66",
   "metadata": {},
   "outputs": [
    {
     "name": "stdout",
     "output_type": "stream",
     "text": [
      "Time taken:  0.24771952629089355  seconds\n"
     ]
    }
   ],
   "source": [
    "import time\n",
    "\n",
    "start_time = time.time()\n",
    "clf.predict(X_test)\n",
    "end_time = time.time()\n",
    "print(\"Time taken: \", end_time - start_time, \" seconds\")\n"
   ]
  },
  {
   "cell_type": "code",
   "execution_count": 4,
   "id": "a58a0933",
   "metadata": {},
   "outputs": [],
   "source": [
    "# bestaccuracy = 0\n",
    "# import numpy as np\n",
    "\n",
    "# arr = np.arange(0.2, 0.3+0.025, 0.025)\n",
    "# # [0.1   0.125 0.15  0.175 0.2   0.225 0.25  0.275 0.3  ]\n",
    "\n",
    "# cv = CountVectorizer()\n",
    "# cv.fit_transform(data['Content'])\n",
    "\n",
    "# # Transform the text data into a matrix of features\n",
    "# X = cv.transform(data['Content'])\n",
    "# y = np.array(data['Type'])\n",
    "\n",
    "\n",
    "# # Transform the text data into a matrix of features\n",
    "# for i in range(1,100):\n",
    "#     for j in arr:\n",
    "#         ch2 = SelectKBest(chi2, k=i)\n",
    "#         Xi = ch2.fit_transform(X, y)\n",
    "\n",
    "#         # Split the dataset into training and testing sets\n",
    "#         X_train, X_test, y_train, y_test = train_test_split(Xi, y, test_size=j, random_state=42)\n",
    "\n",
    "#         # Train a Linear SVM classifier on the selected features\n",
    "\n",
    "#         clf = KNeighborsClassifier()\n",
    "#         clf.fit(X_train, y_train)\n",
    "\n",
    "#         # Evaluate the classifier on the testing set\n",
    "#         accuracy = clf.score(X_test, y_test)\n",
    "#         if bestaccuracy  < accuracy:\n",
    "#             bestaccuracy = accuracy\n",
    "#             print(\"The best:\", bestaccuracy, 'fnumber ', i, \"size of ds\", j)"
   ]
  },
  {
   "cell_type": "code",
   "execution_count": null,
   "id": "75fc8bbb",
   "metadata": {},
   "outputs": [],
   "source": []
  }
 ],
 "metadata": {
  "kernelspec": {
   "display_name": "Python 3 (ipykernel)",
   "language": "python",
   "name": "python3"
  },
  "language_info": {
   "codemirror_mode": {
    "name": "ipython",
    "version": 3
   },
   "file_extension": ".py",
   "mimetype": "text/x-python",
   "name": "python",
   "nbconvert_exporter": "python",
   "pygments_lexer": "ipython3",
   "version": "3.9.13"
  }
 },
 "nbformat": 4,
 "nbformat_minor": 5
}
